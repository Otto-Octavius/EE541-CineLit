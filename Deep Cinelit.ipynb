{
  "metadata": {
    "kernelspec": {
      "language": "python",
      "display_name": "Python 3",
      "name": "python3"
    },
    "language_info": {
      "name": "python",
      "version": "3.7.12",
      "mimetype": "text/x-python",
      "codemirror_mode": {
        "name": "ipython",
        "version": 3
      },
      "pygments_lexer": "ipython3",
      "nbconvert_exporter": "python",
      "file_extension": ".py"
    },
    "kaggle": {
      "accelerator": "none",
      "dataSources": [
        {
          "sourceId": 1187,
          "sourceType": "datasetVersion",
          "datasetId": 626
        },
        {
          "sourceId": 4508,
          "sourceType": "datasetVersion",
          "datasetId": 138
        },
        {
          "sourceId": 4966,
          "sourceType": "datasetVersion",
          "datasetId": 2559
        },
        {
          "sourceId": 6663,
          "sourceType": "datasetVersion",
          "datasetId": 3405
        },
        {
          "sourceId": 10279,
          "sourceType": "datasetVersion",
          "datasetId": 7181
        },
        {
          "sourceId": 16363,
          "sourceType": "datasetVersion",
          "datasetId": 11616
        },
        {
          "sourceId": 77759,
          "sourceType": "datasetVersion",
          "datasetId": 339
        },
        {
          "sourceId": 118283,
          "sourceType": "datasetVersion",
          "datasetId": 60876
        },
        {
          "sourceId": 127736,
          "sourceType": "datasetVersion",
          "datasetId": 64890
        },
        {
          "sourceId": 320111,
          "sourceType": "datasetVersion",
          "datasetId": 134715
        },
        {
          "sourceId": 792972,
          "sourceType": "datasetVersion",
          "datasetId": 1636
        },
        {
          "sourceId": 1464660,
          "sourceType": "datasetVersion",
          "datasetId": 858948
        },
        {
          "sourceId": 1476856,
          "sourceType": "datasetVersion",
          "datasetId": 866581
        },
        {
          "sourceId": 1863460,
          "sourceType": "datasetVersion",
          "datasetId": 1109013
        },
        {
          "sourceId": 1898721,
          "sourceType": "datasetVersion",
          "datasetId": 1131493
        },
        {
          "sourceId": 2456241,
          "sourceType": "datasetVersion",
          "datasetId": 2745
        },
        {
          "sourceId": 2654038,
          "sourceType": "datasetVersion",
          "datasetId": 434238
        },
        {
          "sourceId": 2698943,
          "sourceType": "datasetVersion",
          "datasetId": 1643699
        },
        {
          "sourceId": 2864236,
          "sourceType": "datasetVersion",
          "datasetId": 1624191
        },
        {
          "sourceId": 2935141,
          "sourceType": "datasetVersion",
          "datasetId": 669193
        },
        {
          "sourceId": 3247929,
          "sourceType": "datasetVersion",
          "datasetId": 1968448
        },
        {
          "sourceId": 3989707,
          "sourceType": "datasetVersion",
          "datasetId": 2178661
        },
        {
          "sourceId": 7103363,
          "sourceType": "datasetVersion",
          "datasetId": 592158
        }
      ],
      "dockerImageVersionId": 30213,
      "isInternetEnabled": false,
      "language": "python",
      "sourceType": "notebook",
      "isGpuEnabled": false
    },
    "colab": {
      "provenance": [],
      "include_colab_link": true
    }
  },
  "nbformat_minor": 0,
  "nbformat": 4,
  "cells": [
    {
      "cell_type": "markdown",
      "metadata": {
        "id": "view-in-github",
        "colab_type": "text"
      },
      "source": [
        "<a href=\"https://colab.research.google.com/github/Otto-Octavius/EE541-CineLit/blob/main/Deep%20Cinelit.ipynb\" target=\"_parent\"><img src=\"https://colab.research.google.com/assets/colab-badge.svg\" alt=\"Open In Colab\"/></a>"
      ]
    },
    {
      "cell_type": "code",
      "source": [
        "pip install tensorflow_recommenders --quiet"
      ],
      "metadata": {
        "id": "mP1y1mH-T8XY",
        "colab": {
          "base_uri": "https://localhost:8080/"
        },
        "outputId": "90730c0c-7d57-4c86-8eae-e87a6b0ef168"
      },
      "execution_count": 1,
      "outputs": [
        {
          "output_type": "stream",
          "name": "stdout",
          "text": [
            "\u001b[?25l     \u001b[90m━━━━━━━━━━━━━━━━━━━━━━━━━━━━━━━━━━━━━━━━\u001b[0m \u001b[32m0.0/96.2 kB\u001b[0m \u001b[31m?\u001b[0m eta \u001b[36m-:--:--\u001b[0m\r\u001b[2K     \u001b[91m━━━━\u001b[0m\u001b[90m╺\u001b[0m\u001b[90m━━━━━━━━━━━━━━━━━━━━━━━━━━━━━━━━━━━\u001b[0m \u001b[32m10.2/96.2 kB\u001b[0m \u001b[31m?\u001b[0m eta \u001b[36m-:--:--\u001b[0m\r\u001b[2K     \u001b[91m━━━━━━━━━━━━\u001b[0m\u001b[91m╸\u001b[0m\u001b[90m━━━━━━━━━━━━━━━━━━━━━━━━━━━\u001b[0m \u001b[32m30.7/96.2 kB\u001b[0m \u001b[31m385.4 kB/s\u001b[0m eta \u001b[36m0:00:01\u001b[0m\r\u001b[2K     \u001b[91m━━━━━━━━━━━━━━━━━━━━━━━━━━━━━\u001b[0m\u001b[91m╸\u001b[0m\u001b[90m━━━━━━━━━━\u001b[0m \u001b[32m71.7/96.2 kB\u001b[0m \u001b[31m603.1 kB/s\u001b[0m eta \u001b[36m0:00:01\u001b[0m\r\u001b[2K     \u001b[90m━━━━━━━━━━━━━━━━━━━━━━━━━━━━━━━━━━━━━━━━\u001b[0m \u001b[32m96.2/96.2 kB\u001b[0m \u001b[31m737.0 kB/s\u001b[0m eta \u001b[36m0:00:00\u001b[0m\n",
            "\u001b[?25h"
          ]
        }
      ]
    },
    {
      "cell_type": "code",
      "source": [
        "import string\n",
        "import re\n",
        "import pandas as pd\n",
        "import numpy as np\n",
        "import seaborn as sns\n",
        "import matplotlib.pyplot as plt\n",
        "import tensorflow as tf\n",
        "import tensorflow_recommenders as tfrs\n",
        "from collections import Counter\n",
        "from typing import Dict, Text\n",
        "from ast import literal_eval\n",
        "from datetime import datetime\n",
        "from wordcloud import WordCloud\n",
        "from sklearn.preprocessing import MinMaxScaler\n",
        "from sklearn.feature_extraction.text import TfidfVectorizer\n",
        "from sklearn.metrics.pairwise import cosine_similarity\n",
        "\n",
        "import warnings\n",
        "warnings.filterwarnings('ignore')"
      ],
      "metadata": {
        "id": "V5dkMtwmTRif"
      },
      "execution_count": 2,
      "outputs": []
    },
    {
      "cell_type": "code",
      "source": [
        "from google.colab import drive\n",
        "drive.mount('/content/drive')"
      ],
      "metadata": {
        "colab": {
          "base_uri": "https://localhost:8080/"
        },
        "id": "AKfTr3FBUW5z",
        "outputId": "25de1b05-646c-4b77-aeab-6cc26ffda9b0"
      },
      "execution_count": 3,
      "outputs": [
        {
          "output_type": "stream",
          "name": "stdout",
          "text": [
            "Mounted at /content/drive\n"
          ]
        }
      ]
    },
    {
      "cell_type": "code",
      "source": [
        "import tensorflow as tf\n",
        "import tensorflow_recommenders as tfrs\n",
        "import pandas as pd\n",
        "from sklearn.model_selection import train_test_split\n",
        "from sklearn.feature_extraction.text import TfidfVectorizer\n",
        "from sklearn.preprocessing import StandardScaler"
      ],
      "metadata": {
        "id": "eSTAGLCjypTf"
      },
      "execution_count": 4,
      "outputs": []
    },
    {
      "cell_type": "code",
      "source": [
        "credits = pd.read_csv('/content/drive/MyDrive/archive/credits.csv')\n",
        "keywords = pd.read_csv('/content/drive/MyDrive/archive/keywords.csv')\n",
        "movies = pd.read_csv('/content/drive/MyDrive/archive/movies_metadata.csv').\\\n",
        "                     drop(['belongs_to_collection', 'homepage', 'imdb_id', 'poster_path', 'status', 'title', 'video'], axis=1).\\\n",
        "                     drop([19730, 29503, 35587])\n",
        "\n",
        "movies['id'] = movies['id'].astype('int64')\n",
        "\n",
        "df = movies.merge(keywords, on='id').\\\n",
        "    merge(credits, on='id')\n",
        "\n",
        "df['original_language'] = df['original_language'].fillna('')\n",
        "df['runtime'] = df['runtime'].fillna(0)\n",
        "df['tagline'] = df['tagline'].fillna('')\n",
        "\n",
        "df.dropna(inplace=True)"
      ],
      "metadata": {
        "id": "RNN7LZ9qW--E"
      },
      "execution_count": 5,
      "outputs": []
    },
    {
      "cell_type": "code",
      "source": [
        "from datetime import datetime\n",
        "\n",
        "ratings_df = pd.read_csv('/content/drive/MyDrive/archive/ratings_small.csv')\n",
        "\n",
        "ratings_df['date'] = ratings_df['timestamp'].apply(lambda x: datetime.fromtimestamp(x))\n",
        "ratings_df.drop('timestamp', axis=1, inplace=True)\n",
        "\n",
        "ratings_df = ratings_df.merge(df[['id', 'original_title', 'genres', 'overview']], left_on='movieId',right_on='id', how='left')\n",
        "ratings_df = ratings_df[~ratings_df['id'].isna()]\n",
        "ratings_df.drop('id', axis=1, inplace=True)\n",
        "ratings_df.reset_index(drop=True, inplace=True)\n",
        "\n",
        "ratings_df.head()"
      ],
      "metadata": {
        "papermill": {
          "duration": 0.254468,
          "end_time": "2022-08-08T09:13:57.373234",
          "exception": false,
          "start_time": "2022-08-08T09:13:57.118766",
          "status": "completed"
        },
        "tags": [],
        "execution": {
          "iopub.status.busy": "2023-12-06T22:21:52.498406Z",
          "iopub.execute_input": "2023-12-06T22:21:52.498908Z",
          "iopub.status.idle": "2023-12-06T22:21:52.740586Z",
          "shell.execute_reply.started": "2023-12-06T22:21:52.498873Z",
          "shell.execute_reply": "2023-12-06T22:21:52.739315Z"
        },
        "trusted": true,
        "colab": {
          "base_uri": "https://localhost:8080/",
          "height": 206
        },
        "id": "bJKBrBd3SyQU",
        "outputId": "069e5bdc-fd35-4138-d1b3-8b630bffc0d2"
      },
      "execution_count": 6,
      "outputs": [
        {
          "output_type": "execute_result",
          "data": {
            "text/plain": [
              "   userId  movieId  rating                date  \\\n",
              "0       1     1371     2.5 2009-12-14 02:52:15   \n",
              "1       1     1405     1.0 2009-12-14 02:53:23   \n",
              "2       1     2105     4.0 2009-12-14 02:52:19   \n",
              "3       1     2193     2.0 2009-12-14 02:53:18   \n",
              "4       1     2294     2.0 2009-12-14 02:51:48   \n",
              "\n",
              "                   original_title  \\\n",
              "0                       Rocky III   \n",
              "1                           Greed   \n",
              "2                    American Pie   \n",
              "3                        My Tutor   \n",
              "4  Jay and Silent Bob Strike Back   \n",
              "\n",
              "                                              genres  \\\n",
              "0                      [{'id': 18, 'name': 'Drama'}]   \n",
              "1  [{'id': 18, 'name': 'Drama'}, {'id': 36, 'name...   \n",
              "2  [{'id': 35, 'name': 'Comedy'}, {'id': 10749, '...   \n",
              "3  [{'id': 35, 'name': 'Comedy'}, {'id': 18, 'nam...   \n",
              "4                     [{'id': 35, 'name': 'Comedy'}]   \n",
              "\n",
              "                                            overview  \n",
              "0  Now the world champion, Rocky Balboa is living...  \n",
              "1  Greed is the classic 1924 silent film by Erich...  \n",
              "2  At a high-school party, four friends find that...  \n",
              "3  High school senior Bobby Chrystal fails his Fr...  \n",
              "4  When Jay and Silent Bob learn that their comic...  "
            ],
            "text/html": [
              "\n",
              "  <div id=\"df-640eaa24-cd73-466b-af5d-36a3008e46d4\" class=\"colab-df-container\">\n",
              "    <div>\n",
              "<style scoped>\n",
              "    .dataframe tbody tr th:only-of-type {\n",
              "        vertical-align: middle;\n",
              "    }\n",
              "\n",
              "    .dataframe tbody tr th {\n",
              "        vertical-align: top;\n",
              "    }\n",
              "\n",
              "    .dataframe thead th {\n",
              "        text-align: right;\n",
              "    }\n",
              "</style>\n",
              "<table border=\"1\" class=\"dataframe\">\n",
              "  <thead>\n",
              "    <tr style=\"text-align: right;\">\n",
              "      <th></th>\n",
              "      <th>userId</th>\n",
              "      <th>movieId</th>\n",
              "      <th>rating</th>\n",
              "      <th>date</th>\n",
              "      <th>original_title</th>\n",
              "      <th>genres</th>\n",
              "      <th>overview</th>\n",
              "    </tr>\n",
              "  </thead>\n",
              "  <tbody>\n",
              "    <tr>\n",
              "      <th>0</th>\n",
              "      <td>1</td>\n",
              "      <td>1371</td>\n",
              "      <td>2.5</td>\n",
              "      <td>2009-12-14 02:52:15</td>\n",
              "      <td>Rocky III</td>\n",
              "      <td>[{'id': 18, 'name': 'Drama'}]</td>\n",
              "      <td>Now the world champion, Rocky Balboa is living...</td>\n",
              "    </tr>\n",
              "    <tr>\n",
              "      <th>1</th>\n",
              "      <td>1</td>\n",
              "      <td>1405</td>\n",
              "      <td>1.0</td>\n",
              "      <td>2009-12-14 02:53:23</td>\n",
              "      <td>Greed</td>\n",
              "      <td>[{'id': 18, 'name': 'Drama'}, {'id': 36, 'name...</td>\n",
              "      <td>Greed is the classic 1924 silent film by Erich...</td>\n",
              "    </tr>\n",
              "    <tr>\n",
              "      <th>2</th>\n",
              "      <td>1</td>\n",
              "      <td>2105</td>\n",
              "      <td>4.0</td>\n",
              "      <td>2009-12-14 02:52:19</td>\n",
              "      <td>American Pie</td>\n",
              "      <td>[{'id': 35, 'name': 'Comedy'}, {'id': 10749, '...</td>\n",
              "      <td>At a high-school party, four friends find that...</td>\n",
              "    </tr>\n",
              "    <tr>\n",
              "      <th>3</th>\n",
              "      <td>1</td>\n",
              "      <td>2193</td>\n",
              "      <td>2.0</td>\n",
              "      <td>2009-12-14 02:53:18</td>\n",
              "      <td>My Tutor</td>\n",
              "      <td>[{'id': 35, 'name': 'Comedy'}, {'id': 18, 'nam...</td>\n",
              "      <td>High school senior Bobby Chrystal fails his Fr...</td>\n",
              "    </tr>\n",
              "    <tr>\n",
              "      <th>4</th>\n",
              "      <td>1</td>\n",
              "      <td>2294</td>\n",
              "      <td>2.0</td>\n",
              "      <td>2009-12-14 02:51:48</td>\n",
              "      <td>Jay and Silent Bob Strike Back</td>\n",
              "      <td>[{'id': 35, 'name': 'Comedy'}]</td>\n",
              "      <td>When Jay and Silent Bob learn that their comic...</td>\n",
              "    </tr>\n",
              "  </tbody>\n",
              "</table>\n",
              "</div>\n",
              "    <div class=\"colab-df-buttons\">\n",
              "\n",
              "  <div class=\"colab-df-container\">\n",
              "    <button class=\"colab-df-convert\" onclick=\"convertToInteractive('df-640eaa24-cd73-466b-af5d-36a3008e46d4')\"\n",
              "            title=\"Convert this dataframe to an interactive table.\"\n",
              "            style=\"display:none;\">\n",
              "\n",
              "  <svg xmlns=\"http://www.w3.org/2000/svg\" height=\"24px\" viewBox=\"0 -960 960 960\">\n",
              "    <path d=\"M120-120v-720h720v720H120Zm60-500h600v-160H180v160Zm220 220h160v-160H400v160Zm0 220h160v-160H400v160ZM180-400h160v-160H180v160Zm440 0h160v-160H620v160ZM180-180h160v-160H180v160Zm440 0h160v-160H620v160Z\"/>\n",
              "  </svg>\n",
              "    </button>\n",
              "\n",
              "  <style>\n",
              "    .colab-df-container {\n",
              "      display:flex;\n",
              "      gap: 12px;\n",
              "    }\n",
              "\n",
              "    .colab-df-convert {\n",
              "      background-color: #E8F0FE;\n",
              "      border: none;\n",
              "      border-radius: 50%;\n",
              "      cursor: pointer;\n",
              "      display: none;\n",
              "      fill: #1967D2;\n",
              "      height: 32px;\n",
              "      padding: 0 0 0 0;\n",
              "      width: 32px;\n",
              "    }\n",
              "\n",
              "    .colab-df-convert:hover {\n",
              "      background-color: #E2EBFA;\n",
              "      box-shadow: 0px 1px 2px rgba(60, 64, 67, 0.3), 0px 1px 3px 1px rgba(60, 64, 67, 0.15);\n",
              "      fill: #174EA6;\n",
              "    }\n",
              "\n",
              "    .colab-df-buttons div {\n",
              "      margin-bottom: 4px;\n",
              "    }\n",
              "\n",
              "    [theme=dark] .colab-df-convert {\n",
              "      background-color: #3B4455;\n",
              "      fill: #D2E3FC;\n",
              "    }\n",
              "\n",
              "    [theme=dark] .colab-df-convert:hover {\n",
              "      background-color: #434B5C;\n",
              "      box-shadow: 0px 1px 3px 1px rgba(0, 0, 0, 0.15);\n",
              "      filter: drop-shadow(0px 1px 2px rgba(0, 0, 0, 0.3));\n",
              "      fill: #FFFFFF;\n",
              "    }\n",
              "  </style>\n",
              "\n",
              "    <script>\n",
              "      const buttonEl =\n",
              "        document.querySelector('#df-640eaa24-cd73-466b-af5d-36a3008e46d4 button.colab-df-convert');\n",
              "      buttonEl.style.display =\n",
              "        google.colab.kernel.accessAllowed ? 'block' : 'none';\n",
              "\n",
              "      async function convertToInteractive(key) {\n",
              "        const element = document.querySelector('#df-640eaa24-cd73-466b-af5d-36a3008e46d4');\n",
              "        const dataTable =\n",
              "          await google.colab.kernel.invokeFunction('convertToInteractive',\n",
              "                                                    [key], {});\n",
              "        if (!dataTable) return;\n",
              "\n",
              "        const docLinkHtml = 'Like what you see? Visit the ' +\n",
              "          '<a target=\"_blank\" href=https://colab.research.google.com/notebooks/data_table.ipynb>data table notebook</a>'\n",
              "          + ' to learn more about interactive tables.';\n",
              "        element.innerHTML = '';\n",
              "        dataTable['output_type'] = 'display_data';\n",
              "        await google.colab.output.renderOutput(dataTable, element);\n",
              "        const docLink = document.createElement('div');\n",
              "        docLink.innerHTML = docLinkHtml;\n",
              "        element.appendChild(docLink);\n",
              "      }\n",
              "    </script>\n",
              "  </div>\n",
              "\n",
              "\n",
              "<div id=\"df-ab77b1e0-adef-4b86-b209-5ce5df7319dc\">\n",
              "  <button class=\"colab-df-quickchart\" onclick=\"quickchart('df-ab77b1e0-adef-4b86-b209-5ce5df7319dc')\"\n",
              "            title=\"Suggest charts\"\n",
              "            style=\"display:none;\">\n",
              "\n",
              "<svg xmlns=\"http://www.w3.org/2000/svg\" height=\"24px\"viewBox=\"0 0 24 24\"\n",
              "     width=\"24px\">\n",
              "    <g>\n",
              "        <path d=\"M19 3H5c-1.1 0-2 .9-2 2v14c0 1.1.9 2 2 2h14c1.1 0 2-.9 2-2V5c0-1.1-.9-2-2-2zM9 17H7v-7h2v7zm4 0h-2V7h2v10zm4 0h-2v-4h2v4z\"/>\n",
              "    </g>\n",
              "</svg>\n",
              "  </button>\n",
              "\n",
              "<style>\n",
              "  .colab-df-quickchart {\n",
              "      --bg-color: #E8F0FE;\n",
              "      --fill-color: #1967D2;\n",
              "      --hover-bg-color: #E2EBFA;\n",
              "      --hover-fill-color: #174EA6;\n",
              "      --disabled-fill-color: #AAA;\n",
              "      --disabled-bg-color: #DDD;\n",
              "  }\n",
              "\n",
              "  [theme=dark] .colab-df-quickchart {\n",
              "      --bg-color: #3B4455;\n",
              "      --fill-color: #D2E3FC;\n",
              "      --hover-bg-color: #434B5C;\n",
              "      --hover-fill-color: #FFFFFF;\n",
              "      --disabled-bg-color: #3B4455;\n",
              "      --disabled-fill-color: #666;\n",
              "  }\n",
              "\n",
              "  .colab-df-quickchart {\n",
              "    background-color: var(--bg-color);\n",
              "    border: none;\n",
              "    border-radius: 50%;\n",
              "    cursor: pointer;\n",
              "    display: none;\n",
              "    fill: var(--fill-color);\n",
              "    height: 32px;\n",
              "    padding: 0;\n",
              "    width: 32px;\n",
              "  }\n",
              "\n",
              "  .colab-df-quickchart:hover {\n",
              "    background-color: var(--hover-bg-color);\n",
              "    box-shadow: 0 1px 2px rgba(60, 64, 67, 0.3), 0 1px 3px 1px rgba(60, 64, 67, 0.15);\n",
              "    fill: var(--button-hover-fill-color);\n",
              "  }\n",
              "\n",
              "  .colab-df-quickchart-complete:disabled,\n",
              "  .colab-df-quickchart-complete:disabled:hover {\n",
              "    background-color: var(--disabled-bg-color);\n",
              "    fill: var(--disabled-fill-color);\n",
              "    box-shadow: none;\n",
              "  }\n",
              "\n",
              "  .colab-df-spinner {\n",
              "    border: 2px solid var(--fill-color);\n",
              "    border-color: transparent;\n",
              "    border-bottom-color: var(--fill-color);\n",
              "    animation:\n",
              "      spin 1s steps(1) infinite;\n",
              "  }\n",
              "\n",
              "  @keyframes spin {\n",
              "    0% {\n",
              "      border-color: transparent;\n",
              "      border-bottom-color: var(--fill-color);\n",
              "      border-left-color: var(--fill-color);\n",
              "    }\n",
              "    20% {\n",
              "      border-color: transparent;\n",
              "      border-left-color: var(--fill-color);\n",
              "      border-top-color: var(--fill-color);\n",
              "    }\n",
              "    30% {\n",
              "      border-color: transparent;\n",
              "      border-left-color: var(--fill-color);\n",
              "      border-top-color: var(--fill-color);\n",
              "      border-right-color: var(--fill-color);\n",
              "    }\n",
              "    40% {\n",
              "      border-color: transparent;\n",
              "      border-right-color: var(--fill-color);\n",
              "      border-top-color: var(--fill-color);\n",
              "    }\n",
              "    60% {\n",
              "      border-color: transparent;\n",
              "      border-right-color: var(--fill-color);\n",
              "    }\n",
              "    80% {\n",
              "      border-color: transparent;\n",
              "      border-right-color: var(--fill-color);\n",
              "      border-bottom-color: var(--fill-color);\n",
              "    }\n",
              "    90% {\n",
              "      border-color: transparent;\n",
              "      border-bottom-color: var(--fill-color);\n",
              "    }\n",
              "  }\n",
              "</style>\n",
              "\n",
              "  <script>\n",
              "    async function quickchart(key) {\n",
              "      const quickchartButtonEl =\n",
              "        document.querySelector('#' + key + ' button');\n",
              "      quickchartButtonEl.disabled = true;  // To prevent multiple clicks.\n",
              "      quickchartButtonEl.classList.add('colab-df-spinner');\n",
              "      try {\n",
              "        const charts = await google.colab.kernel.invokeFunction(\n",
              "            'suggestCharts', [key], {});\n",
              "      } catch (error) {\n",
              "        console.error('Error during call to suggestCharts:', error);\n",
              "      }\n",
              "      quickchartButtonEl.classList.remove('colab-df-spinner');\n",
              "      quickchartButtonEl.classList.add('colab-df-quickchart-complete');\n",
              "    }\n",
              "    (() => {\n",
              "      let quickchartButtonEl =\n",
              "        document.querySelector('#df-ab77b1e0-adef-4b86-b209-5ce5df7319dc button');\n",
              "      quickchartButtonEl.style.display =\n",
              "        google.colab.kernel.accessAllowed ? 'block' : 'none';\n",
              "    })();\n",
              "  </script>\n",
              "</div>\n",
              "    </div>\n",
              "  </div>\n"
            ]
          },
          "metadata": {},
          "execution_count": 6
        }
      ]
    },
    {
      "cell_type": "code",
      "source": [
        "movies_df = df[['id', 'original_title']]\n",
        "movies_df.rename(columns={'id':'movieId'}, inplace=True)\n",
        "movies_df.head()"
      ],
      "metadata": {
        "papermill": {
          "duration": 0.065786,
          "end_time": "2022-08-08T09:13:57.491741",
          "exception": false,
          "start_time": "2022-08-08T09:13:57.425955",
          "status": "completed"
        },
        "tags": [],
        "execution": {
          "iopub.status.busy": "2023-12-06T22:22:00.325533Z",
          "iopub.execute_input": "2023-12-06T22:22:00.325970Z",
          "iopub.status.idle": "2023-12-06T22:22:00.340941Z",
          "shell.execute_reply.started": "2023-12-06T22:22:00.325935Z",
          "shell.execute_reply": "2023-12-06T22:22:00.339559Z"
        },
        "trusted": true,
        "colab": {
          "base_uri": "https://localhost:8080/",
          "height": 206
        },
        "id": "mAFLoQMkSyQV",
        "outputId": "e13d9080-db67-4403-9b00-968be6a4bd14"
      },
      "execution_count": 7,
      "outputs": [
        {
          "output_type": "execute_result",
          "data": {
            "text/plain": [
              "   movieId               original_title\n",
              "0      862                    Toy Story\n",
              "1     8844                      Jumanji\n",
              "2    15602             Grumpier Old Men\n",
              "3    31357            Waiting to Exhale\n",
              "4    11862  Father of the Bride Part II"
            ],
            "text/html": [
              "\n",
              "  <div id=\"df-82225080-a9a1-4617-9b3b-6531d6543d71\" class=\"colab-df-container\">\n",
              "    <div>\n",
              "<style scoped>\n",
              "    .dataframe tbody tr th:only-of-type {\n",
              "        vertical-align: middle;\n",
              "    }\n",
              "\n",
              "    .dataframe tbody tr th {\n",
              "        vertical-align: top;\n",
              "    }\n",
              "\n",
              "    .dataframe thead th {\n",
              "        text-align: right;\n",
              "    }\n",
              "</style>\n",
              "<table border=\"1\" class=\"dataframe\">\n",
              "  <thead>\n",
              "    <tr style=\"text-align: right;\">\n",
              "      <th></th>\n",
              "      <th>movieId</th>\n",
              "      <th>original_title</th>\n",
              "    </tr>\n",
              "  </thead>\n",
              "  <tbody>\n",
              "    <tr>\n",
              "      <th>0</th>\n",
              "      <td>862</td>\n",
              "      <td>Toy Story</td>\n",
              "    </tr>\n",
              "    <tr>\n",
              "      <th>1</th>\n",
              "      <td>8844</td>\n",
              "      <td>Jumanji</td>\n",
              "    </tr>\n",
              "    <tr>\n",
              "      <th>2</th>\n",
              "      <td>15602</td>\n",
              "      <td>Grumpier Old Men</td>\n",
              "    </tr>\n",
              "    <tr>\n",
              "      <th>3</th>\n",
              "      <td>31357</td>\n",
              "      <td>Waiting to Exhale</td>\n",
              "    </tr>\n",
              "    <tr>\n",
              "      <th>4</th>\n",
              "      <td>11862</td>\n",
              "      <td>Father of the Bride Part II</td>\n",
              "    </tr>\n",
              "  </tbody>\n",
              "</table>\n",
              "</div>\n",
              "    <div class=\"colab-df-buttons\">\n",
              "\n",
              "  <div class=\"colab-df-container\">\n",
              "    <button class=\"colab-df-convert\" onclick=\"convertToInteractive('df-82225080-a9a1-4617-9b3b-6531d6543d71')\"\n",
              "            title=\"Convert this dataframe to an interactive table.\"\n",
              "            style=\"display:none;\">\n",
              "\n",
              "  <svg xmlns=\"http://www.w3.org/2000/svg\" height=\"24px\" viewBox=\"0 -960 960 960\">\n",
              "    <path d=\"M120-120v-720h720v720H120Zm60-500h600v-160H180v160Zm220 220h160v-160H400v160Zm0 220h160v-160H400v160ZM180-400h160v-160H180v160Zm440 0h160v-160H620v160ZM180-180h160v-160H180v160Zm440 0h160v-160H620v160Z\"/>\n",
              "  </svg>\n",
              "    </button>\n",
              "\n",
              "  <style>\n",
              "    .colab-df-container {\n",
              "      display:flex;\n",
              "      gap: 12px;\n",
              "    }\n",
              "\n",
              "    .colab-df-convert {\n",
              "      background-color: #E8F0FE;\n",
              "      border: none;\n",
              "      border-radius: 50%;\n",
              "      cursor: pointer;\n",
              "      display: none;\n",
              "      fill: #1967D2;\n",
              "      height: 32px;\n",
              "      padding: 0 0 0 0;\n",
              "      width: 32px;\n",
              "    }\n",
              "\n",
              "    .colab-df-convert:hover {\n",
              "      background-color: #E2EBFA;\n",
              "      box-shadow: 0px 1px 2px rgba(60, 64, 67, 0.3), 0px 1px 3px 1px rgba(60, 64, 67, 0.15);\n",
              "      fill: #174EA6;\n",
              "    }\n",
              "\n",
              "    .colab-df-buttons div {\n",
              "      margin-bottom: 4px;\n",
              "    }\n",
              "\n",
              "    [theme=dark] .colab-df-convert {\n",
              "      background-color: #3B4455;\n",
              "      fill: #D2E3FC;\n",
              "    }\n",
              "\n",
              "    [theme=dark] .colab-df-convert:hover {\n",
              "      background-color: #434B5C;\n",
              "      box-shadow: 0px 1px 3px 1px rgba(0, 0, 0, 0.15);\n",
              "      filter: drop-shadow(0px 1px 2px rgba(0, 0, 0, 0.3));\n",
              "      fill: #FFFFFF;\n",
              "    }\n",
              "  </style>\n",
              "\n",
              "    <script>\n",
              "      const buttonEl =\n",
              "        document.querySelector('#df-82225080-a9a1-4617-9b3b-6531d6543d71 button.colab-df-convert');\n",
              "      buttonEl.style.display =\n",
              "        google.colab.kernel.accessAllowed ? 'block' : 'none';\n",
              "\n",
              "      async function convertToInteractive(key) {\n",
              "        const element = document.querySelector('#df-82225080-a9a1-4617-9b3b-6531d6543d71');\n",
              "        const dataTable =\n",
              "          await google.colab.kernel.invokeFunction('convertToInteractive',\n",
              "                                                    [key], {});\n",
              "        if (!dataTable) return;\n",
              "\n",
              "        const docLinkHtml = 'Like what you see? Visit the ' +\n",
              "          '<a target=\"_blank\" href=https://colab.research.google.com/notebooks/data_table.ipynb>data table notebook</a>'\n",
              "          + ' to learn more about interactive tables.';\n",
              "        element.innerHTML = '';\n",
              "        dataTable['output_type'] = 'display_data';\n",
              "        await google.colab.output.renderOutput(dataTable, element);\n",
              "        const docLink = document.createElement('div');\n",
              "        docLink.innerHTML = docLinkHtml;\n",
              "        element.appendChild(docLink);\n",
              "      }\n",
              "    </script>\n",
              "  </div>\n",
              "\n",
              "\n",
              "<div id=\"df-c097c562-f38a-41f8-9a72-6fd7f30f2fe8\">\n",
              "  <button class=\"colab-df-quickchart\" onclick=\"quickchart('df-c097c562-f38a-41f8-9a72-6fd7f30f2fe8')\"\n",
              "            title=\"Suggest charts\"\n",
              "            style=\"display:none;\">\n",
              "\n",
              "<svg xmlns=\"http://www.w3.org/2000/svg\" height=\"24px\"viewBox=\"0 0 24 24\"\n",
              "     width=\"24px\">\n",
              "    <g>\n",
              "        <path d=\"M19 3H5c-1.1 0-2 .9-2 2v14c0 1.1.9 2 2 2h14c1.1 0 2-.9 2-2V5c0-1.1-.9-2-2-2zM9 17H7v-7h2v7zm4 0h-2V7h2v10zm4 0h-2v-4h2v4z\"/>\n",
              "    </g>\n",
              "</svg>\n",
              "  </button>\n",
              "\n",
              "<style>\n",
              "  .colab-df-quickchart {\n",
              "      --bg-color: #E8F0FE;\n",
              "      --fill-color: #1967D2;\n",
              "      --hover-bg-color: #E2EBFA;\n",
              "      --hover-fill-color: #174EA6;\n",
              "      --disabled-fill-color: #AAA;\n",
              "      --disabled-bg-color: #DDD;\n",
              "  }\n",
              "\n",
              "  [theme=dark] .colab-df-quickchart {\n",
              "      --bg-color: #3B4455;\n",
              "      --fill-color: #D2E3FC;\n",
              "      --hover-bg-color: #434B5C;\n",
              "      --hover-fill-color: #FFFFFF;\n",
              "      --disabled-bg-color: #3B4455;\n",
              "      --disabled-fill-color: #666;\n",
              "  }\n",
              "\n",
              "  .colab-df-quickchart {\n",
              "    background-color: var(--bg-color);\n",
              "    border: none;\n",
              "    border-radius: 50%;\n",
              "    cursor: pointer;\n",
              "    display: none;\n",
              "    fill: var(--fill-color);\n",
              "    height: 32px;\n",
              "    padding: 0;\n",
              "    width: 32px;\n",
              "  }\n",
              "\n",
              "  .colab-df-quickchart:hover {\n",
              "    background-color: var(--hover-bg-color);\n",
              "    box-shadow: 0 1px 2px rgba(60, 64, 67, 0.3), 0 1px 3px 1px rgba(60, 64, 67, 0.15);\n",
              "    fill: var(--button-hover-fill-color);\n",
              "  }\n",
              "\n",
              "  .colab-df-quickchart-complete:disabled,\n",
              "  .colab-df-quickchart-complete:disabled:hover {\n",
              "    background-color: var(--disabled-bg-color);\n",
              "    fill: var(--disabled-fill-color);\n",
              "    box-shadow: none;\n",
              "  }\n",
              "\n",
              "  .colab-df-spinner {\n",
              "    border: 2px solid var(--fill-color);\n",
              "    border-color: transparent;\n",
              "    border-bottom-color: var(--fill-color);\n",
              "    animation:\n",
              "      spin 1s steps(1) infinite;\n",
              "  }\n",
              "\n",
              "  @keyframes spin {\n",
              "    0% {\n",
              "      border-color: transparent;\n",
              "      border-bottom-color: var(--fill-color);\n",
              "      border-left-color: var(--fill-color);\n",
              "    }\n",
              "    20% {\n",
              "      border-color: transparent;\n",
              "      border-left-color: var(--fill-color);\n",
              "      border-top-color: var(--fill-color);\n",
              "    }\n",
              "    30% {\n",
              "      border-color: transparent;\n",
              "      border-left-color: var(--fill-color);\n",
              "      border-top-color: var(--fill-color);\n",
              "      border-right-color: var(--fill-color);\n",
              "    }\n",
              "    40% {\n",
              "      border-color: transparent;\n",
              "      border-right-color: var(--fill-color);\n",
              "      border-top-color: var(--fill-color);\n",
              "    }\n",
              "    60% {\n",
              "      border-color: transparent;\n",
              "      border-right-color: var(--fill-color);\n",
              "    }\n",
              "    80% {\n",
              "      border-color: transparent;\n",
              "      border-right-color: var(--fill-color);\n",
              "      border-bottom-color: var(--fill-color);\n",
              "    }\n",
              "    90% {\n",
              "      border-color: transparent;\n",
              "      border-bottom-color: var(--fill-color);\n",
              "    }\n",
              "  }\n",
              "</style>\n",
              "\n",
              "  <script>\n",
              "    async function quickchart(key) {\n",
              "      const quickchartButtonEl =\n",
              "        document.querySelector('#' + key + ' button');\n",
              "      quickchartButtonEl.disabled = true;  // To prevent multiple clicks.\n",
              "      quickchartButtonEl.classList.add('colab-df-spinner');\n",
              "      try {\n",
              "        const charts = await google.colab.kernel.invokeFunction(\n",
              "            'suggestCharts', [key], {});\n",
              "      } catch (error) {\n",
              "        console.error('Error during call to suggestCharts:', error);\n",
              "      }\n",
              "      quickchartButtonEl.classList.remove('colab-df-spinner');\n",
              "      quickchartButtonEl.classList.add('colab-df-quickchart-complete');\n",
              "    }\n",
              "    (() => {\n",
              "      let quickchartButtonEl =\n",
              "        document.querySelector('#df-c097c562-f38a-41f8-9a72-6fd7f30f2fe8 button');\n",
              "      quickchartButtonEl.style.display =\n",
              "        google.colab.kernel.accessAllowed ? 'block' : 'none';\n",
              "    })();\n",
              "  </script>\n",
              "</div>\n",
              "    </div>\n",
              "  </div>\n"
            ]
          },
          "metadata": {},
          "execution_count": 7
        }
      ]
    },
    {
      "cell_type": "code",
      "source": [
        "import tensorflow as tf\n",
        "ratings_df['userId'] = ratings_df['userId'].astype(str)\n",
        "\n",
        "ratings = tf.data.Dataset.from_tensor_slices(dict(ratings_df[['userId', 'original_title', 'rating']]))\n",
        "movies = tf.data.Dataset.from_tensor_slices(dict(movies_df[['original_title']]))\n",
        "\n",
        "ratings = ratings.map(lambda x: {\n",
        "    \"original_title\": x[\"original_title\"],\n",
        "    \"userId\": x[\"userId\"],\n",
        "    \"rating\": float(x[\"rating\"])\n",
        "})\n",
        "\n",
        "movies = movies.map(lambda x: x[\"original_title\"])"
      ],
      "metadata": {
        "_kg_hide-output": true,
        "papermill": {
          "duration": 0.202702,
          "end_time": "2022-08-08T09:13:57.740317",
          "exception": false,
          "start_time": "2022-08-08T09:13:57.537615",
          "status": "completed"
        },
        "tags": [],
        "execution": {
          "iopub.status.busy": "2023-12-06T22:22:17.629039Z",
          "iopub.execute_input": "2023-12-06T22:22:17.629519Z",
          "iopub.status.idle": "2023-12-06T22:22:24.419349Z",
          "shell.execute_reply.started": "2023-12-06T22:22:17.629453Z",
          "shell.execute_reply": "2023-12-06T22:22:24.417865Z"
        },
        "trusted": true,
        "id": "a9Hzb1weSyQV"
      },
      "execution_count": 8,
      "outputs": []
    },
    {
      "cell_type": "code",
      "source": [
        "print('Total Data: {}'.format(len(ratings)))\n",
        "\n",
        "tf.random.set_seed(42)\n",
        "shuffled = ratings.shuffle(100_000, seed=42, reshuffle_each_iteration=False)\n",
        "\n",
        "train = ratings.take(35_000)\n",
        "test = ratings.skip(35_000).take(8_188)"
      ],
      "metadata": {
        "papermill": {
          "duration": 0.061469,
          "end_time": "2022-08-08T09:13:57.847529",
          "exception": false,
          "start_time": "2022-08-08T09:13:57.78606",
          "status": "completed"
        },
        "tags": [],
        "execution": {
          "iopub.status.busy": "2023-12-06T22:22:32.397879Z",
          "iopub.execute_input": "2023-12-06T22:22:32.398654Z",
          "iopub.status.idle": "2023-12-06T22:22:32.456387Z",
          "shell.execute_reply.started": "2023-12-06T22:22:32.398613Z",
          "shell.execute_reply": "2023-12-06T22:22:32.455168Z"
        },
        "trusted": true,
        "colab": {
          "base_uri": "https://localhost:8080/"
        },
        "id": "yYGJryqiSyQV",
        "outputId": "30ce6e41-31dc-4e48-eb3b-4e8c259faa3f"
      },
      "execution_count": 9,
      "outputs": [
        {
          "output_type": "stream",
          "name": "stdout",
          "text": [
            "Total Data: 44875\n"
          ]
        }
      ]
    },
    {
      "cell_type": "code",
      "source": [
        "movie_titles = movies.batch(1_000)\n",
        "user_ids = ratings.batch(1_000).map(lambda x: x[\"userId\"])\n",
        "\n",
        "unique_movie_titles = np.unique(np.concatenate(list(movie_titles)))\n",
        "unique_user_ids = np.unique(np.concatenate(list(user_ids)))"
      ],
      "metadata": {
        "papermill": {
          "duration": 1.023537,
          "end_time": "2022-08-08T09:13:58.917115",
          "exception": false,
          "start_time": "2022-08-08T09:13:57.893578",
          "status": "completed"
        },
        "tags": [],
        "execution": {
          "iopub.status.busy": "2023-12-06T22:22:35.845827Z",
          "iopub.execute_input": "2023-12-06T22:22:35.846425Z",
          "iopub.status.idle": "2023-12-06T22:22:36.886270Z",
          "shell.execute_reply.started": "2023-12-06T22:22:35.846346Z",
          "shell.execute_reply": "2023-12-06T22:22:36.884884Z"
        },
        "trusted": true,
        "id": "Db8NEyk7SyQV"
      },
      "execution_count": 10,
      "outputs": []
    },
    {
      "cell_type": "code",
      "source": [
        "import tensorflow_recommenders as tfrs\n",
        "\n",
        "class MovieModel(tfrs.models.Model):\n",
        "\n",
        "  def __init__(self, rating_weight: float, retrieval_weight: float) -> None:\n",
        "    super().__init__()\n",
        "\n",
        "    embedding_dimension = 128\n",
        "    self.movie_model: tf.keras.layers.Layer = tf.keras.Sequential([\n",
        "      tf.keras.layers.StringLookup(\n",
        "        vocabulary=unique_movie_titles, mask_token=None),\n",
        "      tf.keras.layers.Embedding(len(unique_movie_titles) + 1, embedding_dimension)\n",
        "    ])\n",
        "    self.user_model: tf.keras.layers.Layer = tf.keras.Sequential([\n",
        "      tf.keras.layers.StringLookup(\n",
        "        vocabulary=unique_user_ids, mask_token=None),\n",
        "      tf.keras.layers.Embedding(len(unique_user_ids) + 1, embedding_dimension)\n",
        "    ])\n",
        "    self.rating_model = tf.keras.Sequential([\n",
        "        tf.keras.layers.Dense(512, activation=\"relu\"),\n",
        "        tf.keras.layers.Dropout(0.3),\n",
        "        tf.keras.layers.Dense(256, activation=\"relu\"),\n",
        "        tf.keras.layers.Dropout(0.5),\n",
        "        tf.keras.layers.Dense(128, activation=\"relu\"),\n",
        "        tf.keras.layers.Dropout(0.2),\n",
        "        tf.keras.layers.Dense(1),\n",
        "    ])\n",
        "    self.rating_task: tf.keras.layers.Layer = tfrs.tasks.Ranking(\n",
        "        loss=tf.keras.losses.MeanSquaredError(),\n",
        "        metrics=[tf.keras.metrics.RootMeanSquaredError()],\n",
        "    )\n",
        "    self.retrieval_task: tf.keras.layers.Layer = tfrs.tasks.Retrieval(\n",
        "        metrics=tfrs.metrics.FactorizedTopK(\n",
        "            candidates=movies.batch(128).map(self.movie_model)\n",
        "        )\n",
        "    )\n",
        "    self.rating_weight = rating_weight\n",
        "    self.retrieval_weight = retrieval_weight\n",
        "\n",
        "  def call(self, features: Dict[Text, tf.Tensor]) -> tf.Tensor:\n",
        "    user_embeddings = self.user_model(features[\"userId\"])\n",
        "    movie_embeddings = self.movie_model(features[\"original_title\"])\n",
        "\n",
        "    return (\n",
        "        user_embeddings,\n",
        "        movie_embeddings,\n",
        "        self.rating_model(\n",
        "            tf.concat([user_embeddings, movie_embeddings], axis=1)\n",
        "        ),\n",
        "    )\n",
        "\n",
        "  def compute_loss(self, features: Dict[Text, tf.Tensor], training=False) -> tf.Tensor:\n",
        "\n",
        "    ratings = features.pop(\"rating\")\n",
        "\n",
        "    user_embeddings, movie_embeddings, rating_predictions = self(features)\n",
        "    rating_loss = self.rating_task(\n",
        "        labels=ratings,\n",
        "        predictions=rating_predictions,\n",
        "    )\n",
        "    retrieval_loss = self.retrieval_task(user_embeddings, movie_embeddings)\n",
        "    return (self.rating_weight * rating_loss\n",
        "            + self.retrieval_weight * retrieval_loss)"
      ],
      "metadata": {
        "papermill": {
          "duration": 0.066511,
          "end_time": "2022-08-08T09:13:59.028589",
          "exception": false,
          "start_time": "2022-08-08T09:13:58.962078",
          "status": "completed"
        },
        "tags": [],
        "execution": {
          "iopub.status.busy": "2023-12-06T22:25:00.043071Z",
          "iopub.execute_input": "2023-12-06T22:25:00.043565Z",
          "iopub.status.idle": "2023-12-06T22:25:00.089237Z",
          "shell.execute_reply.started": "2023-12-06T22:25:00.043526Z",
          "shell.execute_reply": "2023-12-06T22:25:00.087301Z"
        },
        "trusted": true,
        "id": "QUneHGW5SyQW"
      },
      "execution_count": 11,
      "outputs": []
    },
    {
      "cell_type": "code",
      "source": [
        "model = MovieModel(rating_weight=0.5, retrieval_weight=0.5)\n",
        "model.compile(optimizer=tf.keras.optimizers.Adagrad(0.1))\n",
        "model.build(input_shape={\"userId\": (None,), \"original_title\": (None,)})"
      ],
      "metadata": {
        "papermill": {
          "duration": 240.506827,
          "end_time": "2022-08-08T09:17:59.581321",
          "exception": false,
          "start_time": "2022-08-08T09:13:59.074494",
          "status": "completed"
        },
        "tags": [],
        "execution": {
          "iopub.status.busy": "2022-10-27T04:45:06.273597Z",
          "iopub.execute_input": "2022-10-27T04:45:06.274016Z",
          "iopub.status.idle": "2022-10-27T04:48:25.774632Z",
          "shell.execute_reply.started": "2022-10-27T04:45:06.273981Z",
          "shell.execute_reply": "2022-10-27T04:48:25.773075Z"
        },
        "trusted": true,
        "id": "RMczByFZSyQW"
      },
      "execution_count": 12,
      "outputs": []
    },
    {
      "cell_type": "code",
      "source": [
        "model = MovieModel(rating_weight=1.0, retrieval_weight=1.0)\n",
        "model.compile(optimizer=tf.keras.optimizers.Adagrad(0.1))\n",
        "cached_train = train.shuffle(100_000).batch(1_000).cache()\n",
        "cached_test = test.batch(1_000).cache()\n",
        "\n",
        "model.fit(cached_train, epochs=10)"
      ],
      "metadata": {
        "id": "YG6XX52HSeZl",
        "colab": {
          "base_uri": "https://localhost:8080/"
        },
        "outputId": "d28d318b-f9e1-431b-b545-6bab43ed2260"
      },
      "execution_count": null,
      "outputs": [
        {
          "output_type": "stream",
          "name": "stdout",
          "text": [
            "Epoch 1/10\n",
            " 1/35 [..............................] - ETA: 9:43 - root_mean_squared_error: 3.6832 - factorized_top_k/top_1_categorical_accuracy: 0.0000e+00 - factorized_top_k/top_5_categorical_accuracy: 0.0000e+00 - factorized_top_k/top_10_categorical_accuracy: 0.0000e+00 - factorized_top_k/top_50_categorical_accuracy: 0.0010 - factorized_top_k/top_100_categorical_accuracy: 0.0020 - loss: 6921.1675 - regularization_loss: 0.0000e+00 - total_loss: 6921.1675"
          ]
        }
      ]
    },
    {
      "cell_type": "code",
      "source": [
        "metrics = model.evaluate(cached_test, return_dict=True)\n",
        "\n",
        "print(f\"\\nRetrieval top-100 accuracy: {metrics['factorized_top_k/top_100_categorical_accuracy']:.3f}\")\n",
        "print(f\"Ranking RMSE: {metrics['root_mean_squared_error']:.3f}\")"
      ],
      "metadata": {
        "papermill": {
          "duration": 16.215617,
          "end_time": "2022-08-08T09:18:15.851948",
          "exception": false,
          "start_time": "2022-08-08T09:17:59.636331",
          "status": "completed"
        },
        "tags": [],
        "execution": {
          "iopub.status.busy": "2022-10-27T04:48:25.777163Z",
          "iopub.execute_input": "2022-10-27T04:48:25.777667Z",
          "iopub.status.idle": "2022-10-27T04:48:37.785711Z",
          "shell.execute_reply.started": "2022-10-27T04:48:25.777634Z",
          "shell.execute_reply": "2022-10-27T04:48:37.784135Z"
        },
        "trusted": true,
        "id": "qBHzEBhxSyQW"
      },
      "execution_count": null,
      "outputs": []
    },
    {
      "cell_type": "code",
      "source": [
        "model.save_weights('tfrs.h5')"
      ],
      "metadata": {
        "execution": {
          "iopub.status.busy": "2022-10-27T04:48:37.787699Z",
          "iopub.execute_input": "2022-10-27T04:48:37.78816Z",
          "iopub.status.idle": "2022-10-27T04:48:37.854785Z",
          "shell.execute_reply.started": "2022-10-27T04:48:37.788115Z",
          "shell.execute_reply": "2022-10-27T04:48:37.853538Z"
        },
        "trusted": true,
        "id": "8Jx8gTQ1SyQW"
      },
      "execution_count": null,
      "outputs": []
    },
    {
      "cell_type": "code",
      "source": [
        "def predict_movie(user, top_n=3):\n",
        "    index = tfrs.layers.factorized_top_k.BruteForce(model.user_model)\n",
        "    index.index_from_dataset(\n",
        "      tf.data.Dataset.zip((movies.batch(100), movies.batch(100).map(model.movie_model)))\n",
        "    )\n",
        "    _, titles = index(tf.constant([str(user)]))\n",
        "\n",
        "    print('Top {} recommendations for user {}:\\n'.format(top_n, user))\n",
        "    for i, title in enumerate(titles[0, :top_n].numpy()):\n",
        "        print('{}. {}'.format(i+1, title.decode(\"utf-8\")))\n",
        "\n",
        "def predict_rating(user, movie):\n",
        "    trained_movie_embeddings, trained_user_embeddings, predicted_rating = model({\n",
        "          \"userId\": np.array([str(user)]),\n",
        "          \"original_title\": np.array([movie])\n",
        "      })\n",
        "    print(\"Predicted rating for {}: {}\".format(movie, predicted_rating.numpy()[0][0]))"
      ],
      "metadata": {
        "papermill": {
          "duration": 0.068749,
          "end_time": "2022-08-08T09:18:15.975448",
          "exception": false,
          "start_time": "2022-08-08T09:18:15.906699",
          "status": "completed"
        },
        "tags": [],
        "execution": {
          "iopub.status.busy": "2022-10-27T04:48:37.8562Z",
          "iopub.execute_input": "2022-10-27T04:48:37.85652Z",
          "iopub.status.idle": "2022-10-27T04:48:37.865597Z",
          "shell.execute_reply.started": "2022-10-27T04:48:37.85649Z",
          "shell.execute_reply": "2022-10-27T04:48:37.864373Z"
        },
        "trusted": true,
        "id": "itt8pPQLSyQX"
      },
      "execution_count": 39,
      "outputs": []
    },
    {
      "cell_type": "code",
      "source": [
        "predict_movie(1, 5)"
      ],
      "metadata": {
        "papermill": {
          "duration": 0.367172,
          "end_time": "2022-08-08T09:18:16.397711",
          "exception": false,
          "start_time": "2022-08-08T09:18:16.030539",
          "status": "completed"
        },
        "tags": [],
        "execution": {
          "iopub.status.busy": "2022-10-27T04:48:37.866769Z",
          "iopub.execute_input": "2022-10-27T04:48:37.867612Z",
          "iopub.status.idle": "2022-10-27T04:48:38.306285Z",
          "shell.execute_reply.started": "2022-10-27T04:48:37.867584Z",
          "shell.execute_reply": "2022-10-27T04:48:38.304252Z"
        },
        "trusted": true,
        "colab": {
          "base_uri": "https://localhost:8080/"
        },
        "id": "VnTiuyYGSyQX",
        "outputId": "f95abcba-636e-497b-d2df-118ce7175014"
      },
      "execution_count": 41,
      "outputs": [
        {
          "output_type": "stream",
          "name": "stdout",
          "text": [
            "Top 5 recommendations for user 1:\n",
            "\n",
            "1. American Pie\n",
            "2. My Tutor\n",
            "3. Greed\n",
            "4. Vivement dimanche!\n",
            "5. Rocky III\n"
          ]
        }
      ]
    },
    {
      "cell_type": "code",
      "source": [
        "predict_rating(1,'My Tutor')"
      ],
      "metadata": {
        "papermill": {
          "duration": 0.073481,
          "end_time": "2022-08-08T09:18:16.525934",
          "exception": false,
          "start_time": "2022-08-08T09:18:16.452453",
          "status": "completed"
        },
        "tags": [],
        "execution": {
          "iopub.status.busy": "2022-10-27T04:48:38.308033Z",
          "iopub.execute_input": "2022-10-27T04:48:38.308459Z",
          "iopub.status.idle": "2022-10-27T04:48:38.329011Z",
          "shell.execute_reply.started": "2022-10-27T04:48:38.308422Z",
          "shell.execute_reply": "2022-10-27T04:48:38.32775Z"
        },
        "trusted": true,
        "colab": {
          "base_uri": "https://localhost:8080/"
        },
        "id": "7FIIlI6qSyQX",
        "outputId": "414278bc-45a2-4f81-bb1f-daeaadaccd62"
      },
      "execution_count": 42,
      "outputs": [
        {
          "output_type": "stream",
          "name": "stdout",
          "text": [
            "Predicted rating for My Tutor: 2.0572562217712402\n"
          ]
        }
      ]
    }
  ]
}